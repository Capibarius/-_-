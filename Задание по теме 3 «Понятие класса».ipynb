{
 "cells": [
  {
   "cell_type": "markdown",
   "id": "1c6035fc",
   "metadata": {},
   "source": [
    "# Задание по теме 3 «Понятие класса»"
   ]
  },
  {
   "cell_type": "code",
   "execution_count": 1,
   "id": "fff6c34f",
   "metadata": {},
   "outputs": [],
   "source": [
    "import requests"
   ]
  },
  {
   "cell_type": "markdown",
   "id": "0a2322a7",
   "metadata": {},
   "source": [
    "## Задание 1 "
   ]
  },
  {
   "cell_type": "markdown",
   "id": "f0923a61",
   "metadata": {},
   "source": [
    "Напишите код, который возвращает название валюты (поле Name) с максимальным значением курса с помощью сервиса: www.cbr-xml-daily.ru...ly_json.js"
   ]
  },
  {
   "cell_type": "code",
   "execution_count": 2,
   "id": "b345bb83",
   "metadata": {},
   "outputs": [],
   "source": [
    "class Rate:\n",
    "    def __init__(self, format_='value'):\n",
    "        self.format = format_\n",
    "    \n",
    "    def exchange_rates(self):\n",
    "        self.r = requests.get('https://www.cbr-xml-daily.ru/daily_json.js')\n",
    "        return self.r.json()['Valute']\n",
    "    \n",
    "    def make_format(self, currency):\n",
    "        response = self.exchange_rates()\n",
    "        \n",
    "        if currency in response:\n",
    "            if self.format == 'full':\n",
    "                return response[currency]\n",
    "            \n",
    "            if self.format == 'value':\n",
    "                return response[currency]['Value']\n",
    "        \n",
    "        return 'Error'\n",
    "    \n",
    "    def get_max_value_currency(self):\n",
    "        response = self.exchange_rates()\n",
    "        max_value = 0\n",
    "        max_currency = ''\n",
    "        for currency in response:\n",
    "            if response[currency]['Value'] > max_value:\n",
    "                max_value = response[currency]['Value']\n",
    "                max_currency = response[currency]['Name']\n",
    "        return max_currency"
   ]
  },
  {
   "cell_type": "code",
   "execution_count": 3,
   "id": "dc697199",
   "metadata": {},
   "outputs": [],
   "source": [
    "r = Rate()"
   ]
  },
  {
   "cell_type": "code",
   "execution_count": 4,
   "id": "e2218ccc",
   "metadata": {},
   "outputs": [
    {
     "data": {
      "text/plain": [
       "'СДР (специальные права заимствования)'"
      ]
     },
     "execution_count": 4,
     "metadata": {},
     "output_type": "execute_result"
    }
   ],
   "source": [
    "r.get_max_value_currency()"
   ]
  },
  {
   "cell_type": "code",
   "execution_count": null,
   "id": "0bd6dc05",
   "metadata": {},
   "outputs": [],
   "source": []
  }
 ],
 "metadata": {
  "kernelspec": {
   "display_name": "Python 3 (ipykernel)",
   "language": "python",
   "name": "python3"
  },
  "language_info": {
   "codemirror_mode": {
    "name": "ipython",
    "version": 3
   },
   "file_extension": ".py",
   "mimetype": "text/x-python",
   "name": "python",
   "nbconvert_exporter": "python",
   "pygments_lexer": "ipython3",
   "version": "3.11.4"
  },
  "toc": {
   "base_numbering": 1,
   "nav_menu": {},
   "number_sections": true,
   "sideBar": true,
   "skip_h1_title": false,
   "title_cell": "Table of Contents",
   "title_sidebar": "Contents",
   "toc_cell": false,
   "toc_position": {},
   "toc_section_display": true,
   "toc_window_display": false
  }
 },
 "nbformat": 4,
 "nbformat_minor": 5
}
