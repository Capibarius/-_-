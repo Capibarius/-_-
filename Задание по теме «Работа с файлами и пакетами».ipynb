{
 "cells": [
  {
   "cell_type": "markdown",
   "id": "0fdbb930",
   "metadata": {},
   "source": [
    "# Задание по теме «Работа с файлами и пакетами»"
   ]
  },
  {
   "cell_type": "code",
   "execution_count": 1,
   "id": "63938034",
   "metadata": {},
   "outputs": [],
   "source": [
    "import json"
   ]
  },
  {
   "cell_type": "markdown",
   "id": "de612756",
   "metadata": {},
   "source": [
    "## Задание №1"
   ]
  },
  {
   "cell_type": "code",
   "execution_count": 2,
   "id": "433bb1cd",
   "metadata": {},
   "outputs": [],
   "source": [
    "purchases = {}\n",
    "\n",
    "with open(r'C:\\Users\\slava\\Downloads\\МФТИ\\Программирование на языке Python\\1. Работа с файлами и пакетами\\purchase_log.txt',\\\n",
    "          'r', encoding='utf-8') as file:\n",
    "    next(file)\n",
    "    \n",
    "    for line in file:\n",
    "        purchase = json.loads(line)\n",
    "        user_id = purchase['user_id']\n",
    "        category = purchase['category']\n",
    "        purchases[user_id] = category"
   ]
  },
  {
   "cell_type": "markdown",
   "id": "0cfde0fa",
   "metadata": {},
   "source": [
    "## Задание №2"
   ]
  },
  {
   "cell_type": "code",
   "execution_count": 4,
   "id": "1b6ce107",
   "metadata": {},
   "outputs": [],
   "source": [
    "with open(r'C:\\Users\\slava\\Downloads\\МФТИ\\Программирование на языке Python\\1. Работа с файлами и пакетами\\visit_log.csv',\\\n",
    "          'r', encoding='utf-8') as visits, open('funnel.csv', 'w') as funnel:\n",
    "    \n",
    "    funnel.write('user_id,source,category\\n')\n",
    "    \n",
    "    for i in visits:\n",
    "        line = i.strip().split(',')\n",
    "        user_id = line[0]\n",
    "        \n",
    "        if user_id in purchases.keys():\n",
    "            line.append(purchases[user_id])\n",
    "            funnel.write(f'{line[0]},{line[1]},{line[2]}\\n')"
   ]
  },
  {
   "cell_type": "code",
   "execution_count": 5,
   "id": "fccbd934",
   "metadata": {},
   "outputs": [
    {
     "name": "stdout",
     "output_type": "stream",
     "text": [
      "user_id,source,category\n",
      "1840e0b9d4,other,Продукты\n",
      "4e4f90fcfb,context,Электроника\n"
     ]
    }
   ],
   "source": [
    "with open('funnel.csv', 'r') as funnel:\n",
    "    for i, line in enumerate(funnel):\n",
    "        if i > 2:  \n",
    "            break\n",
    "        print(line.strip())"
   ]
  },
  {
   "cell_type": "code",
   "execution_count": null,
   "id": "0a38b093",
   "metadata": {},
   "outputs": [],
   "source": []
  }
 ],
 "metadata": {
  "kernelspec": {
   "display_name": "Python 3 (ipykernel)",
   "language": "python",
   "name": "python3"
  },
  "language_info": {
   "codemirror_mode": {
    "name": "ipython",
    "version": 3
   },
   "file_extension": ".py",
   "mimetype": "text/x-python",
   "name": "python",
   "nbconvert_exporter": "python",
   "pygments_lexer": "ipython3",
   "version": "3.9.13"
  },
  "toc": {
   "base_numbering": 1,
   "nav_menu": {},
   "number_sections": true,
   "sideBar": true,
   "skip_h1_title": false,
   "title_cell": "Table of Contents",
   "title_sidebar": "Contents",
   "toc_cell": false,
   "toc_position": {},
   "toc_section_display": true,
   "toc_window_display": false
  },
  "varInspector": {
   "cols": {
    "lenName": 16,
    "lenType": 16,
    "lenVar": 40
   },
   "kernels_config": {
    "python": {
     "delete_cmd_postfix": "",
     "delete_cmd_prefix": "del ",
     "library": "var_list.py",
     "varRefreshCmd": "print(var_dic_list())"
    },
    "r": {
     "delete_cmd_postfix": ") ",
     "delete_cmd_prefix": "rm(",
     "library": "var_list.r",
     "varRefreshCmd": "cat(var_dic_list()) "
    }
   },
   "types_to_exclude": [
    "module",
    "function",
    "builtin_function_or_method",
    "instance",
    "_Feature"
   ],
   "window_display": false
  }
 },
 "nbformat": 4,
 "nbformat_minor": 5
}
