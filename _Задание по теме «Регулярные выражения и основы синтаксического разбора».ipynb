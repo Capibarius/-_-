{
 "cells": [
  {
   "cell_type": "markdown",
   "id": "5bd39217",
   "metadata": {},
   "source": [
    "# Домашнее задание по теме «Регулярные выражения и основы синтаксического разбора»"
   ]
  },
  {
   "cell_type": "code",
   "execution_count": 1,
   "id": "ac30375b",
   "metadata": {},
   "outputs": [],
   "source": [
    "import re"
   ]
  },
  {
   "cell_type": "markdown",
   "id": "e2c4cf09",
   "metadata": {},
   "source": [
    "## Задание 1 "
   ]
  },
  {
   "cell_type": "markdown",
   "id": "dd07a516",
   "metadata": {},
   "source": [
    "Напишите функцию, которая принимает на вход строку и проверяет, является ли она валидным транспортным номером (1 буква, 3 цифры, 2 буквы, 2–3 цифры). Обратите внимание, что не все буквы кириллического алфавита используются в транспортных номерах.\n",
    "\n",
    "Если номер валиден, то функция должна возвращать отдельно номер и регион.\n",
    "\n",
    "Примеры работы программы:\n",
    "\n",
    "car_id = 'А222ВС96’\n",
    "Результат: Номер А222BС валиден. Регион: 96.\n",
    "\n",
    "car_id = 'АБ22ВВ193’\n",
    "Результат: Номер не валиден."
   ]
  },
  {
   "cell_type": "code",
   "execution_count": 7,
   "id": "aba6fa3c",
   "metadata": {},
   "outputs": [],
   "source": [
    "def func(car_id):\n",
    "    pattern = r'([АВЕКМНОРСТУХ]\\d{3}[АВЕКМНОРСТУХ]{2})(\\d{2,3})'\n",
    "    m = re.match(pattern, car_id)\n",
    "    if m is None:\n",
    "        return 'Номер не валиден.'\n",
    "    else:\n",
    "        return f'Номер {m.group(1)} валиден. Регион: {m.group(2)}.'"
   ]
  },
  {
   "cell_type": "code",
   "execution_count": 8,
   "id": "ef6cbc97",
   "metadata": {},
   "outputs": [
    {
     "data": {
      "text/plain": [
       "'Номер А222ВС валиден. Регион: 96.'"
      ]
     },
     "execution_count": 8,
     "metadata": {},
     "output_type": "execute_result"
    }
   ],
   "source": [
    "car_id = 'А222ВС96'\n",
    "func(car_id)"
   ]
  },
  {
   "cell_type": "code",
   "execution_count": 9,
   "id": "592936bf",
   "metadata": {},
   "outputs": [
    {
     "data": {
      "text/plain": [
       "'Номер не валиден.'"
      ]
     },
     "execution_count": 9,
     "metadata": {},
     "output_type": "execute_result"
    }
   ],
   "source": [
    "car_id = 'АБ22ВВ193'\n",
    "func(car_id)"
   ]
  },
  {
   "cell_type": "code",
   "execution_count": null,
   "id": "620c4a8a",
   "metadata": {},
   "outputs": [],
   "source": []
  }
 ],
 "metadata": {
  "kernelspec": {
   "display_name": "Python 3 (ipykernel)",
   "language": "python",
   "name": "python3"
  },
  "language_info": {
   "codemirror_mode": {
    "name": "ipython",
    "version": 3
   },
   "file_extension": ".py",
   "mimetype": "text/x-python",
   "name": "python",
   "nbconvert_exporter": "python",
   "pygments_lexer": "ipython3",
   "version": "3.11.4"
  },
  "toc": {
   "base_numbering": 1,
   "nav_menu": {},
   "number_sections": true,
   "sideBar": true,
   "skip_h1_title": false,
   "title_cell": "Table of Contents",
   "title_sidebar": "Contents",
   "toc_cell": false,
   "toc_position": {},
   "toc_section_display": true,
   "toc_window_display": false
  }
 },
 "nbformat": 4,
 "nbformat_minor": 5
}
