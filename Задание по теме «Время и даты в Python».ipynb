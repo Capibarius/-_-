{
 "cells": [
  {
   "cell_type": "markdown",
   "id": "fbc49420",
   "metadata": {},
   "source": [
    "# Задания по теме «Время и даты в Python»"
   ]
  },
  {
   "cell_type": "code",
   "execution_count": 1,
   "id": "b5c90681",
   "metadata": {},
   "outputs": [],
   "source": [
    "from datetime import datetime, timedelta"
   ]
  },
  {
   "cell_type": "markdown",
   "id": "c4ab237c",
   "metadata": {},
   "source": [
    "## Задание 1"
   ]
  },
  {
   "cell_type": "markdown",
   "id": "f7a85e65",
   "metadata": {},
   "source": [
    "Печатные газеты использовали свой формат дат для каждого выпуска. Для каждой газеты из списка напишите формат указанной даты для перевода в объект datetime:\n",
    "\n",
    "The Moscow Times - Wednesday, October 2, 2002\n",
    "The Guardian - Friday, 11.10.13\n",
    "Daily News - Thursday, 18 August 1977\n",
    "\n",
    "Пример работы программы\n",
    "Программа должна выводить на экран объекты типа datetime, соответствующие датам в условии задачи"
   ]
  },
  {
   "cell_type": "code",
   "execution_count": 2,
   "id": "dc5e7a73",
   "metadata": {},
   "outputs": [
    {
     "data": {
      "text/plain": [
       "datetime.datetime(2002, 10, 2, 0, 0)"
      ]
     },
     "execution_count": 2,
     "metadata": {},
     "output_type": "execute_result"
    }
   ],
   "source": [
    "the_moscow_times = datetime.strptime('Wednesday, October 2, 2002', '%A, %B %d, %Y')\n",
    "the_moscow_times"
   ]
  },
  {
   "cell_type": "code",
   "execution_count": 3,
   "id": "3da8371f",
   "metadata": {},
   "outputs": [
    {
     "data": {
      "text/plain": [
       "datetime.datetime(2013, 10, 11, 0, 0)"
      ]
     },
     "execution_count": 3,
     "metadata": {},
     "output_type": "execute_result"
    }
   ],
   "source": [
    "the_guardian = datetime.strptime('Friday, 11.10.13', '%A, %d.%m.%y')\n",
    "the_guardian"
   ]
  },
  {
   "cell_type": "code",
   "execution_count": 4,
   "id": "4e2084a9",
   "metadata": {},
   "outputs": [
    {
     "data": {
      "text/plain": [
       "datetime.datetime(1977, 8, 18, 0, 0)"
      ]
     },
     "execution_count": 4,
     "metadata": {},
     "output_type": "execute_result"
    }
   ],
   "source": [
    "daily_news = datetime.strptime('Thursday, 18 August 1977', '%A, %d %B %Y')\n",
    "daily_news"
   ]
  },
  {
   "cell_type": "markdown",
   "id": "a9034492",
   "metadata": {},
   "source": [
    "## Задание 2"
   ]
  },
  {
   "cell_type": "markdown",
   "id": "4443547a",
   "metadata": {},
   "source": [
    "Напишите функцию date_range, которая возвращает список дат за период от start_date до end_date. Даты должны вводиться в формате YYYY-MM-DD. В случае неверного формата или при start_date > end_date должен возвращаться пустой список."
   ]
  },
  {
   "cell_type": "code",
   "execution_count": 5,
   "id": "2a654b7c",
   "metadata": {},
   "outputs": [],
   "source": [
    "def date_range(start_date, end_date):\n",
    "    try:\n",
    "        start_date_dt = datetime.strptime(start_date, '%Y-%m-%d')\n",
    "        end_date_dt = datetime.strptime(end_date, '%Y-%m-%d')\n",
    "    except:\n",
    "        return []\n",
    "    \n",
    "    if start_date_dt > end_date_dt:\n",
    "        return[]\n",
    "    \n",
    "    return [(start_date_dt + timedelta(days=x)).strftime('%Y-%m-%d') for x in range((end_date_dt-start_date_dt).days+1)]"
   ]
  },
  {
   "cell_type": "code",
   "execution_count": 6,
   "id": "5dd09b9b",
   "metadata": {},
   "outputs": [
    {
     "data": {
      "text/plain": [
       "['2022-01-01', '2022-01-02', '2022-01-03']"
      ]
     },
     "execution_count": 6,
     "metadata": {},
     "output_type": "execute_result"
    }
   ],
   "source": [
    "date_range('2022-01-01', '2022-01-03')"
   ]
  },
  {
   "cell_type": "code",
   "execution_count": 7,
   "id": "5d17f175",
   "metadata": {},
   "outputs": [
    {
     "data": {
      "text/plain": [
       "[]"
      ]
     },
     "execution_count": 7,
     "metadata": {},
     "output_type": "execute_result"
    }
   ],
   "source": [
    "date_range('2022-01-03', '2022-01-01')"
   ]
  },
  {
   "cell_type": "code",
   "execution_count": 8,
   "id": "63bd2876",
   "metadata": {},
   "outputs": [
    {
     "data": {
      "text/plain": [
       "[]"
      ]
     },
     "execution_count": 8,
     "metadata": {},
     "output_type": "execute_result"
    }
   ],
   "source": [
    "date_range('2022-02-30', '2022-02-31')"
   ]
  },
  {
   "cell_type": "code",
   "execution_count": null,
   "id": "2ea9412e",
   "metadata": {},
   "outputs": [],
   "source": []
  }
 ],
 "metadata": {
  "kernelspec": {
   "display_name": "Python 3 (ipykernel)",
   "language": "python",
   "name": "python3"
  },
  "language_info": {
   "codemirror_mode": {
    "name": "ipython",
    "version": 3
   },
   "file_extension": ".py",
   "mimetype": "text/x-python",
   "name": "python",
   "nbconvert_exporter": "python",
   "pygments_lexer": "ipython3",
   "version": "3.11.4"
  },
  "toc": {
   "base_numbering": 1,
   "nav_menu": {},
   "number_sections": true,
   "sideBar": true,
   "skip_h1_title": false,
   "title_cell": "Table of Contents",
   "title_sidebar": "Contents",
   "toc_cell": false,
   "toc_position": {},
   "toc_section_display": true,
   "toc_window_display": false
  }
 },
 "nbformat": 4,
 "nbformat_minor": 5
}
