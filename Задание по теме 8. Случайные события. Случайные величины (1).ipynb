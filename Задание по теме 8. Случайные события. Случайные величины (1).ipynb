{
 "cells": [
  {
   "cell_type": "markdown",
   "id": "eee88608",
   "metadata": {},
   "source": [
    "# Задание по теме 8. Случайные события. Случайные величины"
   ]
  },
  {
   "cell_type": "code",
   "execution_count": 1,
   "id": "bed79934",
   "metadata": {},
   "outputs": [],
   "source": [
    "import numpy as np"
   ]
  },
  {
   "cell_type": "markdown",
   "id": "8f3fddae",
   "metadata": {},
   "source": [
    "## Задание 1"
   ]
  },
  {
   "cell_type": "markdown",
   "id": "5e7daff1",
   "metadata": {},
   "source": [
    "С помощью python смоделировать игру против лотерейного автомата типа «777». \n",
    "Игрок платит 1 руб., после чего выпадает случайное целое число, равномерно распределённое от 0 до 999. \n",
    "При некоторых значениях числа игрок получает выигрыш:\n",
    "\n",
    "- 777: 200 руб.\n",
    "- 999: 100 руб.\n",
    "- 555: 50 руб.\n",
    "- 333: 15 руб.\n",
    "- 111: 10 руб.\n",
    "- *77: 5 руб.\n",
    "- **7: 3 руб.\n",
    "- *00: 2 руб.\n",
    "- **0: 1 руб.\n",
    "- (* — любая цифра)\n",
    "\n",
    "Выгодна ли игра игроку? \n",
    "Сколько в среднем приобретает или теряет игрок за одну игру?\n"
   ]
  },
  {
   "cell_type": "code",
   "execution_count": 2,
   "id": "8e04031a",
   "metadata": {},
   "outputs": [
    {
     "name": "stdout",
     "output_type": "stream",
     "text": [
      "Средние приобретения/потери за игру: -0.205699 руб при 1000000 попыток.\n"
     ]
    }
   ],
   "source": [
    "def game_777(n):\n",
    "    win = 0\n",
    "    for _ in range(n):\n",
    "        number = np.random.randint(0, 1000)\n",
    "        if number == 777:\n",
    "            win += 200\n",
    "        elif number == 999:\n",
    "            win += 100\n",
    "        elif number == 555:\n",
    "            win += 50\n",
    "        elif number == 333:\n",
    "            win += 15\n",
    "        elif number == 111:\n",
    "            win += 10\n",
    "        elif number % 100 == 77:\n",
    "            win += 5\n",
    "        elif number % 10 == 7:\n",
    "            win += 3\n",
    "        elif number % 100 == 0:\n",
    "            win += 2\n",
    "        elif number % 10 == 0:\n",
    "            win += 1\n",
    "    return (win - n) / n, n\n",
    "\n",
    "result, n = game_777(1000000)\n",
    "print(f\"Средние приобретения/потери за игру: {result} руб при {n} попыток.\")\n"
   ]
  },
  {
   "cell_type": "code",
   "execution_count": null,
   "id": "46bfda92",
   "metadata": {},
   "outputs": [],
   "source": []
  }
 ],
 "metadata": {
  "kernelspec": {
   "display_name": "Python 3 (ipykernel)",
   "language": "python",
   "name": "python3"
  },
  "language_info": {
   "codemirror_mode": {
    "name": "ipython",
    "version": 3
   },
   "file_extension": ".py",
   "mimetype": "text/x-python",
   "name": "python",
   "nbconvert_exporter": "python",
   "pygments_lexer": "ipython3",
   "version": "3.9.13"
  },
  "toc": {
   "base_numbering": 1,
   "nav_menu": {},
   "number_sections": true,
   "sideBar": true,
   "skip_h1_title": false,
   "title_cell": "Table of Contents",
   "title_sidebar": "Contents",
   "toc_cell": false,
   "toc_position": {},
   "toc_section_display": true,
   "toc_window_display": false
  },
  "varInspector": {
   "cols": {
    "lenName": 16,
    "lenType": 16,
    "lenVar": 40
   },
   "kernels_config": {
    "python": {
     "delete_cmd_postfix": "",
     "delete_cmd_prefix": "del ",
     "library": "var_list.py",
     "varRefreshCmd": "print(var_dic_list())"
    },
    "r": {
     "delete_cmd_postfix": ") ",
     "delete_cmd_prefix": "rm(",
     "library": "var_list.r",
     "varRefreshCmd": "cat(var_dic_list()) "
    }
   },
   "types_to_exclude": [
    "module",
    "function",
    "builtin_function_or_method",
    "instance",
    "_Feature"
   ],
   "window_display": false
  }
 },
 "nbformat": 4,
 "nbformat_minor": 5
}
